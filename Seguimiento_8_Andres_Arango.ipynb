{
 "cells": [
  {
   "cell_type": "code",
   "execution_count": 1,
   "id": "b6ee9d63",
   "metadata": {},
   "outputs": [],
   "source": [
    "from textx import metamodel_from_file"
   ]
  },
  {
   "cell_type": "code",
   "execution_count": 2,
   "id": "acfe7eaa",
   "metadata": {},
   "outputs": [],
   "source": [
    "meatmodel = metamodel_from_file(r\"C:\\Users\\Public\\lista.tx\")"
   ]
  },
  {
   "cell_type": "code",
   "execution_count": 3,
   "id": "622f85a8",
   "metadata": {},
   "outputs": [],
   "source": [
    "from textx import metamodel_from_str"
   ]
  },
  {
   "cell_type": "code",
   "execution_count": 11,
   "id": "e18a843e",
   "metadata": {},
   "outputs": [],
   "source": [
    "modelo = meatmodel.model_from_str(\"\"\"\n",
    "   producto \"Leche\" 2 unidades 1.5 # Leche descremada\n",
    "    servicio \"Limpieza\" 5 unidades 10.0 # Servicio de limpieza semanal\n",
    "    producto \"Manzanas\" 3 unidades 2.0 # Manzanas frescas\n",
    "\"\"\")"
   ]
  },
  {
   "cell_type": "code",
   "execution_count": 12,
   "id": "6f41230a",
   "metadata": {},
   "outputs": [
    {
     "name": "stdout",
     "output_type": "stream",
     "text": [
      "Carrito de Compras:\n",
      "Leche: 2 x 1.5 = 3.0\n",
      "Limpieza: 5 x 50.0 = 250.0\n",
      "Manzanas: 3 x 2.0 = 6.0\n",
      "Valor Total: 259.0\n"
     ]
    }
   ],
   "source": [
    "cart = []\n",
    "\n",
    "for item in modelo.items:\n",
    "    if item.type == 'producto':\n",
    "        cart.append((item.name, item.quantity.count, item.price))\n",
    "    else:\n",
    "        cart.append((item.name, item.quantity.count, item.price * item.quantity.count))\n",
    "\n",
    "total = sum(quantity * price for name, quantity, price in cart)\n",
    "\n",
    "print(\"Carrito de Compras:\")\n",
    "for name, quantity, price in cart:\n",
    "    print(f\"{name}: {quantity} x {price} = {quantity * price}\")\n",
    "\n",
    "print(f\"Valor Total: {total}\")"
   ]
  },
  {
   "cell_type": "code",
   "execution_count": 16,
   "id": "03d6a027",
   "metadata": {},
   "outputs": [],
   "source": [
    "from textx.export import metamodel_export, model_export\n",
    "from graphviz import Source\n",
    "\n",
    "def visualize_model(meta_model, model):\n",
    "    metamodel_export(meatmodel, \"meta_model.dot\")\n",
    "    model_export(model, \"model.dot\")\n",
    "    Source.from_file(\"meta_model.dot\").view()\n",
    "    Source.from_file(\"model.dot\").view()\n"
   ]
  },
  {
   "cell_type": "code",
   "execution_count": 14,
   "id": "df175100",
   "metadata": {},
   "outputs": [
    {
     "name": "stdout",
     "output_type": "stream",
     "text": [
      "Defaulting to user installation because normal site-packages is not writeable\n",
      "Collecting graphviz\n",
      "  Using cached graphviz-0.20.1-py3-none-any.whl (47 kB)\n",
      "Installing collected packages: graphviz\n",
      "Successfully installed graphviz-0.20.1\n"
     ]
    }
   ],
   "source": [
    "!pip install graphviz"
   ]
  },
  {
   "cell_type": "code",
   "execution_count": null,
   "id": "a3bd8b06",
   "metadata": {},
   "outputs": [],
   "source": []
  },
  {
   "cell_type": "code",
   "execution_count": null,
   "id": "0b2e9fef",
   "metadata": {},
   "outputs": [],
   "source": []
  }
 ],
 "metadata": {
  "kernelspec": {
   "display_name": "Python 3 (ipykernel)",
   "language": "python",
   "name": "python3"
  },
  "language_info": {
   "codemirror_mode": {
    "name": "ipython",
    "version": 3
   },
   "file_extension": ".py",
   "mimetype": "text/x-python",
   "name": "python",
   "nbconvert_exporter": "python",
   "pygments_lexer": "ipython3",
   "version": "3.9.13"
  }
 },
 "nbformat": 4,
 "nbformat_minor": 5
}
